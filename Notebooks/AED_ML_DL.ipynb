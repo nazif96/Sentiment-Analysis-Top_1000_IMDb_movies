{
 "cells": [
  {
   "cell_type": "markdown",
   "id": "96448c3f",
   "metadata": {},
   "source": [
    "# Analyse des sentiments sur les 1000 meilleurs films selon IMDB \n",
    "\n",
    "Nous allons analyser puis classé les sentiments des avis sur les films \n",
    "\n",
    "plan :\n",
    "\n",
    "1. Analyse exploratoire des données \n",
    "2. Analyse des sentiments\n",
    "3. classification des sentiments (Machine Learning & Deep learning )\n"
   ]
  },
  {
   "cell_type": "code",
   "execution_count": null,
   "id": "72054cf6",
   "metadata": {},
   "outputs": [],
   "source": [
    "# library "
   ]
  }
 ],
 "metadata": {
  "language_info": {
   "name": "python"
  }
 },
 "nbformat": 4,
 "nbformat_minor": 5
}
