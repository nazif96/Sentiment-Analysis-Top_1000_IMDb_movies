{
 "cells": [
  {
   "cell_type": "markdown",
   "id": "d19f942d",
   "metadata": {},
   "source": [
    "# Analyse et classifiactions des sentiments des 1000 meilleurs films selon IMDB \n",
    "\n",
    "2. Analyse des sentiments\n",
    "3. classification des sentiments (Machine Learning & Deep learning )"
   ]
  },
  {
   "cell_type": "code",
   "execution_count": null,
   "id": "4f5c41ef",
   "metadata": {},
   "outputs": [],
   "source": [
    "# library \n",
    "import os  \n",
    "import re \n",
    "import pandas as pd\n",
    "import numpy as np \n",
    "import matplotlib.pyplot as plt\n",
    "import seaborn as sns \n",
    "import nltk\n",
    "\n",
    "\n",
    "from nltk.sentiment import SentimentIntensityAnalyzer\n",
    "from nltk.corpus import stopwords\n",
    "from nltk.stem.snowball import SnowballStemmer \n",
    "from wordcloud import WordCloud\n",
    "\n",
    "from sklearn.feature_extraction.text import TfidfVectorizer\n",
    "from sklearn.model_selection import train_test_split\n",
    "from sklearn.feature_extraction.text import TfidfTransformer \n",
    "from sklearn.feature_extraction.text import CountVectorizer\n",
    "from sklearn.naive_bayes import MultinomialNB\n",
    "from sklearn.metrics import accuracy_score\n",
    "from sklearn.multiclass import OneVsRestClassifier\n",
    "from sklearn.svm import LinearSVC\n",
    "from sklearn.linear_model import LogisticRegression\n",
    "from sklearn.pipeline import Pipeline\n",
    "from sklearn.preprocessing import MultiLabelBinarizer\n",
    "from sklearn.metrics import f1_score\n",
    "from sklearn.metrics import hamming_loss\n",
    "from sklearn.naive_bayes import MultinomialNB\n",
    "from sklearn.metrics import classification_report \n",
    "\n",
    "from skmultilearn.problem_transform import ClassifierChain\n",
    "from skmultilearn.problem_transform import LabelPowerset\n",
    "from skmultilearn.problem_transform import BinaryRelevance\n",
    "\n",
    "from pathlib import Path\n",
    "sns.set_theme(style=\"whitegrid\", palette=\"pastel\")\n",
    "from matplotlib import rcParams\n",
    "\n",
    "import warnings\n",
    "warnings.filterwarnings(\"ignore\", category=FutureWarning)"
   ]
  },
  {
   "cell_type": "code",
   "execution_count": 53,
   "id": "68d87830",
   "metadata": {},
   "outputs": [
    {
     "data": {
      "text/html": [
       "<div>\n",
       "<style scoped>\n",
       "    .dataframe tbody tr th:only-of-type {\n",
       "        vertical-align: middle;\n",
       "    }\n",
       "\n",
       "    .dataframe tbody tr th {\n",
       "        vertical-align: top;\n",
       "    }\n",
       "\n",
       "    .dataframe thead th {\n",
       "        text-align: right;\n",
       "    }\n",
       "</style>\n",
       "<table border=\"1\" class=\"dataframe\">\n",
       "  <thead>\n",
       "    <tr style=\"text-align: right;\">\n",
       "      <th></th>\n",
       "      <th>Unnamed: 0</th>\n",
       "      <th>Movie Name</th>\n",
       "      <th>Year of Release</th>\n",
       "      <th>Watch Time</th>\n",
       "      <th>Movie Rating</th>\n",
       "      <th>Metascore of movie</th>\n",
       "      <th>Gross</th>\n",
       "      <th>Votes</th>\n",
       "      <th>Description</th>\n",
       "    </tr>\n",
       "  </thead>\n",
       "  <tbody>\n",
       "    <tr>\n",
       "      <th>0</th>\n",
       "      <td>0</td>\n",
       "      <td>The Shawshank Redemption</td>\n",
       "      <td>1994</td>\n",
       "      <td>142</td>\n",
       "      <td>9.3</td>\n",
       "      <td>82.0</td>\n",
       "      <td>28.34</td>\n",
       "      <td>27,77,378</td>\n",
       "      <td>Over the course of several years, two convicts...</td>\n",
       "    </tr>\n",
       "    <tr>\n",
       "      <th>1</th>\n",
       "      <td>1</td>\n",
       "      <td>The Godfather</td>\n",
       "      <td>1972</td>\n",
       "      <td>175</td>\n",
       "      <td>9.2</td>\n",
       "      <td>100.0</td>\n",
       "      <td>134.97</td>\n",
       "      <td>19,33,588</td>\n",
       "      <td>Don Vito Corleone, head of a mafia family, dec...</td>\n",
       "    </tr>\n",
       "    <tr>\n",
       "      <th>2</th>\n",
       "      <td>2</td>\n",
       "      <td>The Dark Knight</td>\n",
       "      <td>2008</td>\n",
       "      <td>152</td>\n",
       "      <td>9.0</td>\n",
       "      <td>84.0</td>\n",
       "      <td>534.86</td>\n",
       "      <td>27,54,087</td>\n",
       "      <td>When the menace known as the Joker wreaks havo...</td>\n",
       "    </tr>\n",
       "  </tbody>\n",
       "</table>\n",
       "</div>"
      ],
      "text/plain": [
       "   Unnamed: 0                Movie Name Year of Release  Watch Time  \\\n",
       "0           0  The Shawshank Redemption            1994         142   \n",
       "1           1             The Godfather            1972         175   \n",
       "2           2           The Dark Knight            2008         152   \n",
       "\n",
       "   Movie Rating  Metascore of movie   Gross      Votes  \\\n",
       "0           9.3                82.0   28.34  27,77,378   \n",
       "1           9.2               100.0  134.97  19,33,588   \n",
       "2           9.0                84.0  534.86  27,54,087   \n",
       "\n",
       "                                         Description  \n",
       "0  Over the course of several years, two convicts...  \n",
       "1  Don Vito Corleone, head of a mafia family, dec...  \n",
       "2  When the menace known as the Joker wreaks havo...  "
      ]
     },
     "execution_count": 53,
     "metadata": {},
     "output_type": "execute_result"
    }
   ],
   "source": [
    "BASE_DIR = Path().resolve().parent\n",
    "DATA_DIR = BASE_DIR / 'Data' \n",
    "\n",
    "# import des données \n",
    "df = pd.read_csv(DATA_DIR / 'Top_1000_IMDb_movies.csv')\n",
    "df.head(3)"
   ]
  },
  {
   "cell_type": "code",
   "execution_count": 54,
   "id": "f0a544f7",
   "metadata": {},
   "outputs": [
    {
     "name": "stdout",
     "output_type": "stream",
     "text": [
      "la database contient 1000 lignes et 9 colonnes\n",
      "les colonnes sont : ['Unnamed: 0', 'Movie Name', 'Year of Release', 'Watch Time', 'Movie Rating', 'Metascore of movie', 'Gross', 'Votes', 'Description']\n"
     ]
    }
   ],
   "source": [
    "print(f\"la database contient {df.shape[0]} lignes et {df.shape[1]} colonnes\")\n",
    "print(f\"les colonnes sont : {df.columns.tolist()}\")"
   ]
  },
  {
   "cell_type": "markdown",
   "id": "0abc8363",
   "metadata": {},
   "source": [
    "**Nettoyage et traitement des données**"
   ]
  },
  {
   "cell_type": "code",
   "execution_count": 55,
   "id": "7bbede7c",
   "metadata": {},
   "outputs": [
    {
     "data": {
      "text/plain": [
       "Index(['unnamed:_0', 'movie_name', 'year_of_release', 'watch_time',\n",
       "       'movie_rating', 'metascore_of_movie', 'gross', 'votes', 'description'],\n",
       "      dtype='object')"
      ]
     },
     "execution_count": 55,
     "metadata": {},
     "output_type": "execute_result"
    }
   ],
   "source": [
    "df.columns = df.columns.str.lower().str.replace(' ', '_')\n",
    "df.columns"
   ]
  },
  {
   "cell_type": "code",
   "execution_count": 56,
   "id": "f3b85dcd",
   "metadata": {},
   "outputs": [
    {
     "name": "stdout",
     "output_type": "stream",
     "text": [
      "<class 'pandas.core.frame.DataFrame'>\n",
      "RangeIndex: 1000 entries, 0 to 999\n",
      "Data columns (total 9 columns):\n",
      " #   Column              Non-Null Count  Dtype  \n",
      "---  ------              --------------  -----  \n",
      " 0   unnamed:_0          1000 non-null   int64  \n",
      " 1   movie_name          1000 non-null   object \n",
      " 2   year_of_release     1000 non-null   object \n",
      " 3   watch_time          1000 non-null   int64  \n",
      " 4   movie_rating        1000 non-null   float64\n",
      " 5   metascore_of_movie  845 non-null    float64\n",
      " 6   gross               838 non-null    object \n",
      " 7   votes               1000 non-null   object \n",
      " 8   description         1000 non-null   object \n",
      "dtypes: float64(2), int64(2), object(5)\n",
      "memory usage: 70.4+ KB\n"
     ]
    }
   ],
   "source": [
    "df.info()"
   ]
  },
  {
   "cell_type": "code",
   "execution_count": 57,
   "id": "04f3bdfa",
   "metadata": {},
   "outputs": [
    {
     "name": "stderr",
     "output_type": "stream",
     "text": [
      "[nltk_data] Downloading package vader_lexicon to\n",
      "[nltk_data]     C:\\Users\\NAZIFOU\\AppData\\Roaming\\nltk_data...\n",
      "[nltk_data]   Package vader_lexicon is already up-to-date!\n"
     ]
    }
   ],
   "source": [
    "import nltk\n",
    "from nltk.sentiment import SentimentIntensityAnalyzer\n",
    "\n",
    "nltk.download('vader_lexicon')\n",
    "sia = SentimentIntensityAnalyzer()\n",
    "# df['compound_score'] = df['Description'].apply(lambda x: sia.polarity_scores(x)['compound'])\n",
    "df['compound_score'] = df['description'].fillna('').apply(lambda x: sia.polarity_scores(x)['compound'])"
   ]
  },
  {
   "cell_type": "code",
   "execution_count": 58,
   "id": "a7c08c0d",
   "metadata": {},
   "outputs": [
    {
     "data": {
      "text/plain": [
       "0      0.7096\n",
       "1      0.2732\n",
       "2     -0.8176\n",
       "3     -0.5994\n",
       "4     -0.8405\n",
       "        ...  \n",
       "995   -0.4588\n",
       "996   -0.6808\n",
       "997    0.5806\n",
       "998   -0.8909\n",
       "999   -0.9485\n",
       "Name: compound_score, Length: 1000, dtype: float64"
      ]
     },
     "execution_count": 58,
     "metadata": {},
     "output_type": "execute_result"
    }
   ],
   "source": [
    "df['compound_score']"
   ]
  },
  {
   "cell_type": "code",
   "execution_count": 61,
   "id": "7f4edfd3",
   "metadata": {},
   "outputs": [
    {
     "data": {
      "image/png": "[encoded data removed]",
      "text/plain": [
       "<Figure size 1600x800 with 1 Axes>"
      ]
     },
     "metadata": {},
     "output_type": "display_data"
    }
   ],
   "source": [
    "# Visualisation de la distribution des scores de sentiment\n",
    "plt.figure(figsize=(16, 8))\n",
    "sns.histplot(df['compound_score'], bins=20, kde=True)\n",
    "plt.title(\"Distribution des scores de sentiment (compound)\")\n",
    "plt.xlabel(\"Score de sentiment\")\n",
    "plt.show()"
   ]
  },
  {
   "cell_type": "markdown",
   "id": "ad53faac",
   "metadata": {},
   "source": [
    "Le score compound de VADER varie de -1 (négatif) à 1 (positif) :\n",
    "\n",
    "- Une concentration importante autour de 0 : beaucoup de textes semblent neutres.\n",
    "- Asymétrie légèrement marquée côté négatif : plus de textes avec des scores vers -0.75.\n",
    "- Des textes positifs existent aussi, mais moins fréquents que les négatifs."
   ]
  },
  {
   "cell_type": "code",
   "execution_count": 64,
   "id": "38ebf8dd",
   "metadata": {},
   "outputs": [
    {
     "data": {
      "image/png": "[encoded data removed]",
      "text/plain": [
       "<Figure size 1600x800 with 1 Axes>"
      ]
     },
     "metadata": {},
     "output_type": "display_data"
    }
   ],
   "source": [
    "def categorize_sentiment(score):\n",
    "    if score >= 0.05:\n",
    "        return 'Positif'\n",
    "    elif score <= -0.05:\n",
    "        return 'Négatif'\n",
    "    else:\n",
    "        return 'Neutre'\n",
    "\n",
    "df['sentiment'] = df['compound_score'].apply(categorize_sentiment)\n",
    "\n",
    "plt.figure(figsize=(16, 8))\n",
    "sns.countplot(x='sentiment', data=df, palette='pastel')\n",
    "plt.title(\"Répartition des sentiments\")\n",
    "plt.xlabel(\"Catégorie de sentiment\")\n",
    "plt.ylabel(\"Nombre de textes\")\n",
    "plt.show()"
   ]
  },
  {
   "cell_type": "markdown",
   "id": "e528ee99",
   "metadata": {},
   "source": [
    " Interprétation\n",
    " \n",
    "Négatif domine largement les textes ➜ > 500 cas.\n",
    "\n",
    "Positif vient ensuite avec environ 330 textes.\n",
    "\n",
    "Neutre est très minoritaire (~120), ce qui est souvent le cas si le seuil de neutralité est serré (entre -0.05 et 0.05).\n",
    "\n"
   ]
  },
  {
   "cell_type": "markdown",
   "id": "f430fe8c",
   "metadata": {},
   "source": [
    "## **Analyse des sentiments**"
   ]
  },
  {
   "cell_type": "code",
   "execution_count": null,
   "id": "959141e0",
   "metadata": {},
   "outputs": [],
   "source": [
    "# Supprimer les mots vides \n",
    "stop_words = set(stopwords.words('english'))\n",
    "\n",
    "\n",
    "#fonction pour supprimer les mots vides\n",
    "def remove_stopwords(text):\n",
    "    no_stopword_text = [w for w in text.split() if not w in stop_words]\n",
    "    return ' '.join(no_stopword_text)\n",
    "\n",
    "# nettoyer le texte\n",
    "def clean_text(text):\n",
    "    # Convertir en minuscules\n",
    "    text = text.lower()\n",
    "    # Supprimer les caractères spéciaux et les chiffres\n",
    "    text = re.sub(r'[^a-z\\s]', '', text)\n",
    "    # Supprimer les mots vides\n",
    "    text = remove_stopwords(text)\n",
    "    return text\n",
    "\n",
    "#stemming \n",
    "stemmer = SnowballStemmer(\"english\")\n",
    "def stemming(sentence):\n",
    "    stemSentence = \"\"\n",
    "    for word in sentence.split():\n",
    "        stem = stemmer.stem(word)\n",
    "        stemSentence += stem\n",
    "        stemSentence += \" \"\n",
    "    stemSentence = stemSentence.strip()\n",
    "    return stemSentence\n",
    "df['Description'] = df['Description'].astype(str)\n",
    "df['Description'] = df['Description'].apply(lambda x: remove_stopwords(x))\n",
    "df['Description'] = df['Description'].apply(lambda x:clean_text(x))\n",
    "df['Description'] = df['Description'].apply(stemming)\n",
    "\n"
   ]
  },
  {
   "cell_type": "markdown",
   "id": "690299fb",
   "metadata": {},
   "source": [
    "#### **VADER Analyse des sentiments :**"
   ]
  },
  {
   "cell_type": "code",
   "execution_count": 66,
   "id": "0a893157",
   "metadata": {},
   "outputs": [
    {
     "name": "stdout",
     "output_type": "stream",
     "text": [
      "                                           description VADER_Sentiment_Label\n",
      "898  In 1990, to protect his fragile mother from a ...              Negative\n",
      "330  In the rural heartlands of India, an upright p...              Negative\n",
      "499  The X-Men send Wolverine to the past in a desp...              Negative\n",
      "470  Story of 40-man Turkish task force who must de...               Neutral\n",
      "70   The Avengers and their allies must be willing ...              Negative\n",
      "895  Two parallel stories about two identical women...               Neutral\n",
      "604  A mysterious Hollywood action film stuntman ge...              Negative\n",
      "423  Found inside a shining stalk of bamboo by an o...              Negative\n",
      "847  A day in the lives of two convenience clerks n...              Negative\n",
      "113  Despite being caught in her imaginative world,...              Positive\n"
     ]
    }
   ],
   "source": [
    "from nltk.sentiment import SentimentIntensityAnalyzer\n",
    "\n",
    "# Initialisation de l'analyseur de sentiments VADER\n",
    "sia = SentimentIntensityAnalyzer()\n",
    "\n",
    "# Calculer les scores de sentiment\n",
    "df['VADER_Sentiment'] = df['description'].apply(lambda text: sia.polarity_scores(text)['compound'])\n",
    "\n",
    "# Catégoriser le sentimen\n",
    "df['VADER_Sentiment_Label'] = df['VADER_Sentiment'].apply(lambda score: 'Positive' if score > 0 else ('Negative' if score < 0 else 'Neutral'))\n",
    "\n",
    "# Exemples de résultats\n",
    "print(df[['description', 'VADER_Sentiment_Label']].sample(10))"
   ]
  },
  {
   "cell_type": "markdown",
   "id": "6e103a2f",
   "metadata": {},
   "source": [
    "Observation rapide\n",
    "\n",
    "| Label    | Nombre dans l’échantillon  |\n",
    "|----------|----------------------------|\n",
    "| Negative | 7                          |\n",
    "| Neutral  | 2                          |\n",
    "| Positive | 1                          |\n"
   ]
  },
  {
   "cell_type": "markdown",
   "id": "4ecdfc22",
   "metadata": {},
   "source": [
    "- Descriptions plutôt longues, issues probablement de résumés de films ou de produits culturels.\n",
    "\n",
    "- VADER semble assez sévère, penchant vers le négatif, même pour des phrases qui, hors contexte, paraissent neutres ou épiques.\n",
    "\n",
    "Cela peut être dû à :\n",
    "- Un vocabulaire dramatique (souffrance, guerre, peur, danger, désespoir...) qui est perçu négativement.\n",
    "- Le manque de contexte émotionnel explicite (VADER est basé sur des mots clés, pas de contexte narratif profond).\n",
    "\n"
   ]
  },
  {
   "cell_type": "markdown",
   "id": "0167c4f6",
   "metadata": {},
   "source": [
    "### **Machine Learning avec des caractéristiques textuelles**"
   ]
  },
  {
   "cell_type": "code",
   "execution_count": 68,
   "id": "8fa624ac",
   "metadata": {},
   "outputs": [
    {
     "name": "stdout",
     "output_type": "stream",
     "text": [
      "              precision    recall  f1-score   support\n",
      "\n",
      "    Negative       0.56      1.00      0.71       110\n",
      "     Neutral       0.00      0.00      0.00        15\n",
      "    Positive       1.00      0.03      0.05        75\n",
      "\n",
      "    accuracy                           0.56       200\n",
      "   macro avg       0.52      0.34      0.26       200\n",
      "weighted avg       0.68      0.56      0.41       200\n",
      "\n",
      "Accuracy: 0.56\n"
     ]
    },
    {
     "name": "stderr",
     "output_type": "stream",
     "text": [
      "c:\\Users\\NAZIFOU\\Sentiment-Analysis-Top_1000_IMDb_movies\\venv\\Lib\\site-packages\\sklearn\\metrics\\_classification.py:1565: UndefinedMetricWarning: Precision is ill-defined and being set to 0.0 in labels with no predicted samples. Use `zero_division` parameter to control this behavior.\n",
      "  _warn_prf(average, modifier, f\"{metric.capitalize()} is\", len(result))\n",
      "c:\\Users\\NAZIFOU\\Sentiment-Analysis-Top_1000_IMDb_movies\\venv\\Lib\\site-packages\\sklearn\\metrics\\_classification.py:1565: UndefinedMetricWarning: Precision is ill-defined and being set to 0.0 in labels with no predicted samples. Use `zero_division` parameter to control this behavior.\n",
      "  _warn_prf(average, modifier, f\"{metric.capitalize()} is\", len(result))\n",
      "c:\\Users\\NAZIFOU\\Sentiment-Analysis-Top_1000_IMDb_movies\\venv\\Lib\\site-packages\\sklearn\\metrics\\_classification.py:1565: UndefinedMetricWarning: Precision is ill-defined and being set to 0.0 in labels with no predicted samples. Use `zero_division` parameter to control this behavior.\n",
      "  _warn_prf(average, modifier, f\"{metric.capitalize()} is\", len(result))\n"
     ]
    }
   ],
   "source": [
    "from sklearn.feature_extraction.text import TfidfVectorizer\n",
    "from sklearn.model_selection import train_test_split\n",
    "from sklearn.naive_bayes import MultinomialNB\n",
    "from sklearn.metrics import classification_report\n",
    "\n",
    "# Diviser l'ensemble de données en ensembles de formation et de test\n",
    "X_train, X_test, y_train, y_test = train_test_split(df['description'], df['VADER_Sentiment_Label'], test_size=0.2, random_state=42)\n",
    "\n",
    "# Créer un vecteur TF-IDF\n",
    "tfidf_vectorizer = TfidfVectorizer(max_features=5000)\n",
    "X_train_tfidf = tfidf_vectorizer.fit_transform(X_train)\n",
    "X_test_tfidf = tfidf_vectorizer.transform(X_test)\n",
    "\n",
    "# Entraînement d'un classificateur Naive Bayes\n",
    "naive_bayes_classifier = MultinomialNB()\n",
    "naive_bayes_classifier.fit(X_train_tfidf, y_train)\n",
    "\n",
    "# Prédire les étiquettes de sentiment\n",
    "y_pred = naive_bayes_classifier.predict(X_test_tfidf)\n",
    "\n",
    "\n",
    "# afficher le rapport de classification\n",
    "print(classification_report(y_test, y_pred))\n",
    "\n",
    "accuracy = accuracy_score(y_test, y_pred)\n",
    "\n",
    "print(\"Accuracy:\", accuracy)"
   ]
  },
  {
   "cell_type": "markdown",
   "id": "718c257e",
   "metadata": {},
   "source": [
    "| Sentiment       | Precision | Recall | F1-score | Support |\n",
    "|----------------:|-----------|--------|----------|---------|\n",
    "| Negative        | 0.56      | 1.00   | 0.71     | 110     |\n",
    "| Neutral         | 0.00      | 0.00   | 0.00     | 15      |\n",
    "| Positive        | 1.00      | 0.03   | 0.05     | 75      |\n",
    "|                 |           |        |          |         |\n",
    "| **Accuracy**    |           |        | **0.56** | 200     |\n",
    "| **Macro avg**   | 0.52      | 0.34   | 0.26     | 200     |\n",
    "| **Weighted avg**| 0.68      | 0.56   | 0.41     | 200     |\n"
   ]
  },
  {
   "cell_type": "markdown",
   "id": "6ffe3dd2",
   "metadata": {},
   "source": [
    "**Interprétation**\n",
    "\n",
    "**Classe \"Negative\" :**\n",
    "- Très bien détectée par le modèle (recall = 1.00), mais précision modérée (0.56), donc quelques faux positifs.\n",
    "- Ce qui suggère que le modèle prévoit presque tout comme \"Negative\", par facilité.\n",
    "\n",
    "**Classe \"Neutral\" :**\n",
    "- Score catastrophique : aucun texte neutre n’a été correctement prédit.\n",
    "- Cela peut venir du déséquilibre de classes (seulement 15 exemples), ou de caractéristiques peu discriminantes pour cette classe.\n",
    "\n",
    "**Classe \"Positive\" :**\n",
    "- Très bonne précision (1.00), ce qui veut dire que les rares prédictions \"Positive\" étaient correctes.\n",
    "- Mais recall très faible (0.03), donc le modèle ne détecte presque aucun texte positif.\n",
    "\n",
    "**Accuracy globale = 56% :**\n",
    "- En apparence correcte, mais fortement biaisée par la prédiction majoritaire \"Negative\".\n",
    "\n",
    "**Macro avg = très faible (0.26 de f1) :**\n",
    "- Indique que le modèle n’est pas équilibré sur les trois classes."
   ]
  },
  {
   "cell_type": "markdown",
   "id": "b981e083",
   "metadata": {},
   "source": [
    "## **Deep Learning avec LSTM (mémoire à long terme) :**"
   ]
  }
 ],
 "metadata": {
  "kernelspec": {
   "display_name": "venv",
   "language": "python",
   "name": "python3"
  },
  "language_info": {
   "codemirror_mode": {
    "name": "ipython",
    "version": 3
   },
   "file_extension": ".py",
   "mimetype": "text/x-python",
   "name": "python",
   "nbconvert_exporter": "python",
   "pygments_lexer": "ipython3",
   "version": "3.13.2"
  }
 },
 "nbformat": 4,
 "nbformat_minor": 5
}
